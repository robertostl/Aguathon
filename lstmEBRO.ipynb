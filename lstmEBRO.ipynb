{
  "nbformat": 4,
  "nbformat_minor": 0,
  "metadata": {
    "colab": {
      "name": "lstmEBRO.ipynb",
      "provenance": [],
      "collapsed_sections": []
    },
    "kernelspec": {
      "name": "python3",
      "display_name": "Python 3"
    }
  },
  "cells": [
    {
      "cell_type": "code",
      "metadata": {
        "colab": {
          "base_uri": "https://localhost:8080/"
        },
        "id": "WnRSEtrX_40T",
        "outputId": "b0aada82-93d6-47ee-9abc-a8f28bd2cab0"
      },
      "source": [
        "from google.colab import drive\n",
        "drive.mount('/content/drive')"
      ],
      "execution_count": 2,
      "outputs": [
        {
          "output_type": "stream",
          "name": "stdout",
          "text": [
            "Mounted at /content/drive\n"
          ]
        }
      ]
    },
    {
      "cell_type": "code",
      "metadata": {
        "id": "fIBlnECaocDL",
        "colab": {
          "base_uri": "https://localhost:8080/"
        },
        "outputId": "a0642bdb-7102-4bb8-ef5f-dc34690cbf88"
      },
      "source": [
        "import pandas as pd\n",
        "from sklearn.metrics import mean_squared_error\n",
        "from sklearn.preprocessing import MinMaxScaler\n",
        "from datetime import datetime\n",
        "import numpy as np\n",
        "import math\n",
        "from sklearn.model_selection import train_test_split\n",
        "from sklearn.model_selection import cross_val_score\n",
        "dataset = pd.read_csv('/content/drive/My Drive/datos.csv' , index_col=0)\n",
        "df=pd.DataFrame(dataset)\n",
        "print(dataset.head(5))"
      ],
      "execution_count": 12,
      "outputs": [
        {
          "output_type": "stream",
          "name": "stdout",
          "text": [
            "                     ALAGON_NR  GRISEN_NR  ...  pred_48h  pred_72h\n",
            "time                                       ...                    \n",
            "2008-01-01 00:00:00     0.8100     0.4375  ...    0.7400      0.76\n",
            "2008-01-01 01:00:00     0.8100     0.4725  ...    0.7325      0.76\n",
            "2008-01-01 02:00:00     0.8100     0.5425  ...    0.7300      0.76\n",
            "2008-01-01 03:00:00     0.8075     0.5500  ...    0.7200      0.76\n",
            "2008-01-01 04:00:00     0.8000     0.5525  ...    0.7200      0.76\n",
            "\n",
            "[5 rows x 10 columns]\n"
          ]
        }
      ]
    },
    {
      "cell_type": "code",
      "metadata": {
        "id": "zuOVFpQ2VNDy",
        "colab": {
          "base_uri": "https://localhost:8080/",
          "height": 295
        },
        "outputId": "efdf37f7-06d8-4e69-f8b3-7bee49b1f289"
      },
      "source": [
        "#Depuración de los datos\n",
        "dataset.index=pd.to_datetime(dataset.index)\n",
        "mean_ALA=df[\"ALAGON_NR\"].mean()\n",
        "mean_GRI=df[\"GRISEN_NR\"].mean()\n",
        "mean_NOV=df[\"NOVILLAS_NR\"].mean()\n",
        "mean_TAU=df[\"TAUSTE_NR\"].mean()\n",
        "mean_TUD=df[\"TUDELA_NR\"].mean()\n",
        "dataset[\"ALAGON_NR\"].fillna(2*dataset[\"NOVILLAS_NR\"]/3, inplace=True)\n",
        "dataset[\"ALAGON_NR\"].fillna(mean_ALA, inplace=True)\n",
        "dataset[\"GRISEN_NR\"].fillna(mean_GRI, inplace=True)\n",
        "dataset[\"NOVILLAS_NR\"].fillna(3*dataset[\"ALAGON_NR\"]/2, inplace=True)\n",
        "\n",
        "dataset[\"NOVILLAS_NR\"].fillna(mean_NOV, inplace=True)\n",
        "dataset[\"TAUSTE_NR\"].fillna(mean_TAU, inplace=True)\n",
        "dataset[\"TUDELA_NR\"].fillna(mean_TUD, inplace=True)\n",
        "dataset.describe() \n",
        "   "
      ],
      "execution_count": 13,
      "outputs": [
        {
          "output_type": "execute_result",
          "data": {
            "text/html": [
              "<div>\n",
              "<style scoped>\n",
              "    .dataframe tbody tr th:only-of-type {\n",
              "        vertical-align: middle;\n",
              "    }\n",
              "\n",
              "    .dataframe tbody tr th {\n",
              "        vertical-align: top;\n",
              "    }\n",
              "\n",
              "    .dataframe thead th {\n",
              "        text-align: right;\n",
              "    }\n",
              "</style>\n",
              "<table border=\"1\" class=\"dataframe\">\n",
              "  <thead>\n",
              "    <tr style=\"text-align: right;\">\n",
              "      <th></th>\n",
              "      <th>ALAGON_NR</th>\n",
              "      <th>GRISEN_NR</th>\n",
              "      <th>NOVILLAS_NR</th>\n",
              "      <th>TAUSTE_NR</th>\n",
              "      <th>TUDELA_NR</th>\n",
              "      <th>ZGZ_NR</th>\n",
              "      <th>pred_24h</th>\n",
              "      <th>pred_48h</th>\n",
              "      <th>pred_72h</th>\n",
              "    </tr>\n",
              "  </thead>\n",
              "  <tbody>\n",
              "    <tr>\n",
              "      <th>count</th>\n",
              "      <td>95856.000000</td>\n",
              "      <td>95856.000000</td>\n",
              "      <td>95856.000000</td>\n",
              "      <td>95856.000000</td>\n",
              "      <td>95856.000000</td>\n",
              "      <td>95856.000000</td>\n",
              "      <td>95856.000000</td>\n",
              "      <td>95856.000000</td>\n",
              "      <td>95856.000000</td>\n",
              "    </tr>\n",
              "    <tr>\n",
              "      <th>mean</th>\n",
              "      <td>1.596885</td>\n",
              "      <td>0.415385</td>\n",
              "      <td>2.364005</td>\n",
              "      <td>0.613130</td>\n",
              "      <td>1.107738</td>\n",
              "      <td>1.261311</td>\n",
              "      <td>1.261382</td>\n",
              "      <td>1.261450</td>\n",
              "      <td>1.261511</td>\n",
              "    </tr>\n",
              "    <tr>\n",
              "      <th>std</th>\n",
              "      <td>1.303368</td>\n",
              "      <td>0.259794</td>\n",
              "      <td>1.366995</td>\n",
              "      <td>0.270589</td>\n",
              "      <td>0.530805</td>\n",
              "      <td>0.725114</td>\n",
              "      <td>0.725078</td>\n",
              "      <td>0.725042</td>\n",
              "      <td>0.725009</td>\n",
              "    </tr>\n",
              "    <tr>\n",
              "      <th>min</th>\n",
              "      <td>0.257500</td>\n",
              "      <td>0.070000</td>\n",
              "      <td>0.555000</td>\n",
              "      <td>0.225000</td>\n",
              "      <td>0.607500</td>\n",
              "      <td>0.470000</td>\n",
              "      <td>0.470000</td>\n",
              "      <td>0.470000</td>\n",
              "      <td>0.470000</td>\n",
              "    </tr>\n",
              "    <tr>\n",
              "      <th>25%</th>\n",
              "      <td>0.705000</td>\n",
              "      <td>0.150000</td>\n",
              "      <td>1.330000</td>\n",
              "      <td>0.490000</td>\n",
              "      <td>0.800000</td>\n",
              "      <td>0.795000</td>\n",
              "      <td>0.795000</td>\n",
              "      <td>0.795000</td>\n",
              "      <td>0.795000</td>\n",
              "    </tr>\n",
              "    <tr>\n",
              "      <th>50%</th>\n",
              "      <td>1.037500</td>\n",
              "      <td>0.415385</td>\n",
              "      <td>1.930000</td>\n",
              "      <td>0.580000</td>\n",
              "      <td>0.900000</td>\n",
              "      <td>0.950000</td>\n",
              "      <td>0.950000</td>\n",
              "      <td>0.950000</td>\n",
              "      <td>0.950000</td>\n",
              "    </tr>\n",
              "    <tr>\n",
              "      <th>75%</th>\n",
              "      <td>2.090000</td>\n",
              "      <td>0.620000</td>\n",
              "      <td>3.012500</td>\n",
              "      <td>0.682500</td>\n",
              "      <td>1.193125</td>\n",
              "      <td>1.515000</td>\n",
              "      <td>1.515000</td>\n",
              "      <td>1.515000</td>\n",
              "      <td>1.515000</td>\n",
              "    </tr>\n",
              "    <tr>\n",
              "      <th>max</th>\n",
              "      <td>7.895000</td>\n",
              "      <td>4.075000</td>\n",
              "      <td>8.377500</td>\n",
              "      <td>7.970000</td>\n",
              "      <td>5.847500</td>\n",
              "      <td>6.100000</td>\n",
              "      <td>6.100000</td>\n",
              "      <td>6.100000</td>\n",
              "      <td>6.100000</td>\n",
              "    </tr>\n",
              "  </tbody>\n",
              "</table>\n",
              "</div>"
            ],
            "text/plain": [
              "          ALAGON_NR     GRISEN_NR  ...      pred_48h      pred_72h\n",
              "count  95856.000000  95856.000000  ...  95856.000000  95856.000000\n",
              "mean       1.596885      0.415385  ...      1.261450      1.261511\n",
              "std        1.303368      0.259794  ...      0.725042      0.725009\n",
              "min        0.257500      0.070000  ...      0.470000      0.470000\n",
              "25%        0.705000      0.150000  ...      0.795000      0.795000\n",
              "50%        1.037500      0.415385  ...      0.950000      0.950000\n",
              "75%        2.090000      0.620000  ...      1.515000      1.515000\n",
              "max        7.895000      4.075000  ...      6.100000      6.100000\n",
              "\n",
              "[8 rows x 9 columns]"
            ]
          },
          "metadata": {},
          "execution_count": 13
        }
      ]
    },
    {
      "cell_type": "code",
      "metadata": {
        "id": "R6sTJ480pjC1",
        "colab": {
          "base_uri": "https://localhost:8080/",
          "height": 266
        },
        "outputId": "ed413021-cd05-4733-b24a-4ef7358a40f8"
      },
      "source": [
        "#Gráficas de las series temporales\n",
        "from matplotlib import pyplot\n",
        "values = dataset.values\n",
        "groups = [ 0, 1, 2, 3, 4, 5]\n",
        "i = 1\n",
        "pyplot.figure()\n",
        "for group in groups:\n",
        "\tpyplot.subplot(len(groups), 1, i)\n",
        "\tpyplot.plot(dataset.index,values[:, group])\n",
        "\tpyplot.title(dataset.columns[group], y=0.5, loc='right')\n",
        "\ti += 1\n",
        "pyplot.show()"
      ],
      "execution_count": 14,
      "outputs": [
        {
          "output_type": "display_data",
          "data": {
            "image/png": "[encoded data removed]",
            "text/plain": [
              "<Figure size 432x288 with 6 Axes>"
            ]
          },
          "metadata": {
            "needs_background": "light"
          }
        }
      ]
    },
    {
      "cell_type": "code",
      "metadata": {
        "id": "UV7bpGqSBkEd"
      },
      "source": [
        "# convert series to supervised learning\n",
        "def series_to_supervised(data, n_in=1, n_out=1, dropnan=True):\n",
        "\tn_vars = 1 if type(data) is list else data.shape[1]\n",
        "\tdf = pd.DataFrame(data)\n",
        "\tcols, names = list(), list()\n",
        "\t# input sequence (t-n, ... t-1)\n",
        "\tfor i in range(n_in, 0, -1):\n",
        "\t\tcols.append(df.shift(i))\n",
        "\t\tnames += [('var%d(t-%d)' % (j+1, i)) for j in range(n_vars)]\n",
        "\t# forecast sequence (t, t+1, ... t+n)\n",
        "\tfor i in range(0, n_out):\n",
        "\t\tcols.append(df.shift(-i))\n",
        "\t\tif i == 0:\n",
        "\t\t\tnames += [('var%d(t)' % (j+1)) for j in range(n_vars)]\n",
        "\t\telse:\n",
        "\t\t\tnames += [('var%d(t+%d)' % (j+1, i)) for j in range(n_vars)]\n",
        "\t# put it all together\n",
        "\tagg = pd.concat(cols, axis=1)\n",
        "\tagg.columns = names\n",
        "\t# drop rows with NaN values (puede haber problemas con esto de cara a general el csv)\n",
        "\tif dropnan:\n",
        "\t\tagg.dropna(inplace=True)\n",
        "\treturn agg\n",
        "#n_in: Number of lag observations as input (X).\n",
        "#n_out: Number of observations as output (y).\n",
        " "
      ],
      "execution_count": 15,
      "outputs": []
    },
    {
      "cell_type": "code",
      "metadata": {
        "id": "JtcD6LeqkUsr",
        "colab": {
          "base_uri": "https://localhost:8080/"
        },
        "outputId": "2a264e53-d13d-44ea-b945-c2b8f827754a"
      },
      "source": [
        "# normalizacion de los datos(\n",
        "scaler = MinMaxScaler()\n",
        "scaler.fit(values)\n",
        "maxZGZ=scaler.data_max_[7]\n",
        "minZGZ=scaler.data_min_[7]\n",
        "values=scaler.transform(values)\n",
        "values.shape"
      ],
      "execution_count": 16,
      "outputs": [
        {
          "output_type": "execute_result",
          "data": {
            "text/plain": [
              "(95856, 10)"
            ]
          },
          "metadata": {},
          "execution_count": 16
        }
      ]
    },
    {
      "cell_type": "code",
      "metadata": {
        "id": "VaSB_jlngmpw",
        "colab": {
          "base_uri": "https://localhost:8080/"
        },
        "outputId": "f2098a19-5f69-402a-c3f5-ab8a18ddacff"
      },
      "source": [
        "#Filtramos los valores riesgo=True\n",
        "lag=8\n",
        "supervised_riesgo=series_to_supervised(values[:,[0,1,2,3,4,5]],lag,1)\n",
        "supervised_riesgo['pred_24h']=values[lag:,7]\n",
        "supervised_riesgo['pred_48h']=values[lag:,8]\n",
        "supervised_riesgo['pred_72h']=values[lag:,9]\n",
        "supervised_riesgo['riesgo']=values[lag:,6]\n",
        "riesgo_true=supervised_riesgo[supervised_riesgo['riesgo']==True]\n",
        "riesgo_true.shape\n",
        "riesgo_true.drop(['riesgo'],axis='columns',inplace=True)\n",
        "riesgo_true.columns\n",
        "riesgo_true.shape\n",
        "supervised_riesgo.drop(['riesgo'],axis='columns',inplace=True)"
      ],
      "execution_count": 17,
      "outputs": [
        {
          "output_type": "stream",
          "name": "stderr",
          "text": [
            "/usr/local/lib/python3.7/dist-packages/pandas/core/frame.py:4174: SettingWithCopyWarning: \n",
            "A value is trying to be set on a copy of a slice from a DataFrame\n",
            "\n",
            "See the caveats in the documentation: https://pandas.pydata.org/pandas-docs/stable/user_guide/indexing.html#returning-a-view-versus-a-copy\n",
            "  errors=errors,\n"
          ]
        }
      ]
    },
    {
      "cell_type": "code",
      "metadata": {
        "id": "-LDczC7ai6x6",
        "colab": {
          "base_uri": "https://localhost:8080/"
        },
        "outputId": "a7511e10-8e1d-4613-8463-9d3fb9f75561"
      },
      "source": [
        "#celda para usar solo los datos con riesgo True\n",
        "n_train_hours= 8000\n",
        "train=riesgo_true[:n_train_hours]\n",
        "test=riesgo_true[n_train_hours:]\n",
        "train=train.values\n",
        "test=test.values\n",
        "# dividir los conjuntos\n",
        "train_X, train_y = train[:, 0:6*(lag+1)], train[:, 6*(lag+1):]\n",
        "test_X, test_y = test[:, 0:6*(lag+1)], test[:,6*(lag+1):]\n",
        "#reshape input to be 3D [samples, timesteps, features]\n",
        "train_X = train_X.reshape((train_X.shape[0], lag+1,6))\n",
        "test_X = test_X.reshape((test_X.shape[0], lag+1,6))\n",
        "print(train_X.shape, train_y.shape, test_X.shape, test_y.shape)"
      ],
      "execution_count": 20,
      "outputs": [
        {
          "output_type": "stream",
          "name": "stdout",
          "text": [
            "(8000, 9, 6) (8000, 3) (2074, 9, 6) (2074, 3)\n"
          ]
        }
      ]
    },
    {
      "cell_type": "code",
      "metadata": {
        "id": "XhojpLJQtgTR",
        "colab": {
          "base_uri": "https://localhost:8080/"
        },
        "outputId": "f5f2c79b-697d-430c-a034-c975b1f5fe37"
      },
      "source": [
        "#celda para usar todos los datos (sin filtrar) para hacer la predicción de todos los datos\n",
        "n_train_hours = 60000\n",
        "\n",
        "train = supervised_riesgo[:n_train_hours]\n",
        "test = supervised_riesgo[n_train_hours:]\n",
        "train=train.values\n",
        "test=test.values\n",
        "# dividir los conjuntos\n",
        "train_X, train_y = train[:, 0:6*(lag+1)], train[:, 6*(lag+1):]\n",
        "test_X, test_y = test[:, 0:6*(lag+1)], test[:,6*(lag+1):]\n",
        "#reshape input to be 3D [samples, timesteps, features]\n",
        "train_X = train_X.reshape((train_X.shape[0], lag+1,6))\n",
        "test_X = test_X.reshape((test_X.shape[0], lag+1,6))\n",
        "print(train_X.shape, train_y.shape, test_X.shape, test_y.shape)\n"
      ],
      "execution_count": 19,
      "outputs": [
        {
          "output_type": "stream",
          "name": "stdout",
          "text": [
            "(60000, 9, 6) (60000, 3) (35848, 9, 6) (35848, 3)\n"
          ]
        }
      ]
    },
    {
      "cell_type": "code",
      "metadata": {
        "id": "zJEnR-Q3B_gn"
      },
      "source": [
        ""
      ],
      "execution_count": null,
      "outputs": []
    },
    {
      "cell_type": "code",
      "metadata": {
        "id": "wa732NtexA3C",
        "colab": {
          "base_uri": "https://localhost:8080/",
          "height": 366
        },
        "outputId": "84a8e73e-7f5a-4fb0-b404-75eb478d7631"
      },
      "source": [
        "#CREACION DE LA RED NEURONAL\n",
        "from keras.models import Sequential\n",
        "from keras.layers import Dense\n",
        "from keras.layers import LSTM\n",
        "from keras.layers import Dropout\n",
        "#from keras import optimizers\n",
        "#sgd = optimizers.SGD(lr=0.01, decay=1e-6, momentum=0.9, nesterov=True)\n",
        "model = Sequential()\n",
        "model.add(LSTM(9, input_shape=(train_X.shape[1],train_X.shape[2])))\n",
        "model.add(Dropout(0.3)) #se supone que para evitar overfitting\n",
        "model.add(Dense(5))\n",
        "model.add(Dropout(0.3))\n",
        "model.add(Dense(3))\n",
        "model.compile(loss='mean_squared_error', optimizer='adam')\n",
        "# fit network\n",
        "history = model.fit(train_X, train_y, epochs=3, batch_size=72, validation_data=(test_X, test_y), verbose=2, shuffle=False)\n",
        "# plot history\n",
        "pyplot.plot(history.history['loss'], label='train')\n",
        "pyplot.plot(history.history['val_loss'], label='test')\n",
        "pyplot.legend()\n",
        "pyplot.show()"
      ],
      "execution_count": 21,
      "outputs": [
        {
          "output_type": "stream",
          "name": "stdout",
          "text": [
            "Epoch 1/3\n",
            "112/112 - 3s - loss: 0.0788 - val_loss: 0.0222\n",
            "Epoch 2/3\n",
            "112/112 - 1s - loss: 0.0419 - val_loss: 0.0180\n",
            "Epoch 3/3\n",
            "112/112 - 1s - loss: 0.0305 - val_loss: 0.0167\n"
          ]
        },
        {
          "output_type": "display_data",
          "data": {
            "image/png": "[encoded data removed]",
            "text/plain": [
              "<Figure size 432x288 with 1 Axes>"
            ]
          },
          "metadata": {
            "needs_background": "light"
          }
        }
      ]
    },
    {
      "cell_type": "code",
      "metadata": {
        "id": "RQDjv3d3A1jC",
        "colab": {
          "base_uri": "https://localhost:8080/"
        },
        "outputId": "b4319428-ddc1-4900-ff44-9feae9458066"
      },
      "source": [
        "\n",
        "# make a prediction\n",
        "y_hat=model.predict(test_X)\n",
        "# calculate RMSE\n",
        "#print('Test RMSE: %.5f' % testScore)\n",
        "print(mean_squared_error(test_y[:,0],y_hat[:,0]))\n",
        "print(mean_squared_error(test_y[:,1],y_hat[:,1]))\n",
        "print(mean_squared_error(test_y[:,2],y_hat[:,2]))\n",
        "#el val_loss nos da la media de los tres\n"
      ],
      "execution_count": 22,
      "outputs": [
        {
          "output_type": "stream",
          "name": "stdout",
          "text": [
            "0.013150915657307555\n",
            "0.017036790330825766\n",
            "0.019830530054788915\n"
          ]
        }
      ]
    },
    {
      "cell_type": "code",
      "metadata": {
        "id": "9saClm7lsD5t",
        "colab": {
          "base_uri": "https://localhost:8080/",
          "height": 1139
        },
        "outputId": "7f489c2f-f298-40e6-c947-821a5c1fc8e0"
      },
      "source": [
        "#Cross validation (Esta celda NO VALE)\n",
        "#train_X, test_X, train_y, test_y = train_test_split(riesgo_true.values[:,:6*(lag+1)],riesgo_true.values[:,['pred_24h','pred_48h','pred_72h']] , test_size=0.4, random_state=0)\n",
        "#riesgo_true[:, 0:6*(lag+1)]\n",
        "#cross_val_score(model.fit, riesgo_true.values[:,:6*(lag+1)],riesgo_true[['pred_24h','pred_48h','pred_72h']], cv=5)\n",
        "\n",
        "\n",
        "n_train_hours= 7000\n",
        "train=riesgo_true[n_train_hours:]\n",
        "test=riesgo_true[:n_train_hours]\n",
        "train=train.values\n",
        "test=test.values\n",
        "# split into input and outputs\n",
        "train_X, train_y = train[:, 0:6*(lag+1)], train[:, 6*(lag+1):]\n",
        "test_X, test_y = test[:, 0:6*(lag+1)], test[:,6*(lag+1):]#de momento solo predecimos a 24h\n",
        "#reshape input to be 3D [samples, timesteps, features]\n",
        "train_X = train_X.reshape((train_X.shape[0], lag+1,6))#de momento solo un time step de 1\n",
        "test_X = test_X.reshape((test_X.shape[0], lag+1,6))\n",
        "print(train_X.shape, train_y.shape, test_X.shape, test_y.shape)\n",
        "model.fit(train_X, train_y, epochs=30, batch_size=72, validation_data=(test_X, test_y), verbose=2, shuffle=False)\n",
        "y_hat=model.predict(train_X)\n",
        "print(mean_squared_error(train_y[:,0],y_hat[:,0]))\n",
        "print(mean_squared_error(train_y[:,1],y_hat[:,1]))\n",
        "print(mean_squared_error(train_y[:,2],y_hat[:,2]))\n",
        "(mean_squared_error(train_y[:,0],y_hat[:,0])+mean_squared_error(train_y[:,1],y_hat[:,1])+mean_squared_error(train_y[:,2],y_hat[:,2]))/3"
      ],
      "execution_count": null,
      "outputs": [
        {
          "output_type": "stream",
          "text": [
            "(5074, 51, 6) (5074, 3) (5000, 51, 6) (5000, 3)\n",
            "Train on 5074 samples, validate on 5000 samples\n",
            "Epoch 1/30\n",
            " - 8s - loss: 0.1941 - val_loss: 0.2570\n",
            "Epoch 2/30\n",
            " - 8s - loss: 0.1962 - val_loss: 0.1777\n",
            "Epoch 3/30\n",
            " - 8s - loss: 0.1555 - val_loss: 0.2021\n",
            "Epoch 4/30\n",
            " - 8s - loss: 0.1630 - val_loss: 0.2126\n",
            "Epoch 5/30\n",
            " - 8s - loss: 0.1559 - val_loss: 0.1575\n",
            "Epoch 6/30\n",
            " - 8s - loss: 0.1400 - val_loss: 0.2044\n",
            "Epoch 7/30\n",
            " - 8s - loss: 0.1369 - val_loss: 0.1620\n",
            "Epoch 8/30\n",
            " - 8s - loss: 0.1374 - val_loss: 0.1625\n",
            "Epoch 9/30\n",
            " - 8s - loss: 0.1318 - val_loss: 0.1864\n",
            "Epoch 10/30\n",
            " - 8s - loss: 0.1269 - val_loss: 0.2688\n",
            "Epoch 11/30\n",
            " - 8s - loss: 0.1339 - val_loss: 0.1702\n",
            "Epoch 12/30\n",
            " - 8s - loss: 0.1155 - val_loss: 0.2625\n",
            "Epoch 13/30\n",
            " - 8s - loss: 0.1289 - val_loss: 0.2270\n",
            "Epoch 14/30\n",
            " - 8s - loss: 0.1250 - val_loss: 0.2203\n",
            "Epoch 15/30\n",
            " - 8s - loss: 0.1289 - val_loss: 0.1856\n",
            "Epoch 16/30\n",
            " - 8s - loss: 0.1242 - val_loss: 0.1936\n",
            "Epoch 17/30\n",
            " - 8s - loss: 0.1201 - val_loss: 0.2219\n",
            "Epoch 18/30\n",
            " - 8s - loss: 0.1832 - val_loss: 0.1901\n",
            "Epoch 19/30\n",
            " - 8s - loss: 0.1770 - val_loss: 0.1778\n",
            "Epoch 20/30\n",
            " - 8s - loss: 0.1495 - val_loss: 0.1889\n",
            "Epoch 21/30\n",
            " - 8s - loss: 0.1406 - val_loss: 0.2089\n",
            "Epoch 22/30\n",
            " - 8s - loss: 0.1356 - val_loss: 0.1919\n",
            "Epoch 23/30\n",
            " - 8s - loss: 0.1275 - val_loss: 0.2224\n",
            "Epoch 24/30\n",
            " - 8s - loss: 0.1342 - val_loss: 0.1945\n",
            "Epoch 25/30\n",
            " - 8s - loss: 0.1295 - val_loss: 0.2277\n",
            "Epoch 26/30\n",
            " - 8s - loss: 0.1250 - val_loss: 0.2179\n",
            "Epoch 27/30\n",
            " - 8s - loss: 0.1260 - val_loss: 0.2007\n",
            "Epoch 28/30\n",
            " - 8s - loss: 0.1232 - val_loss: 0.1650\n",
            "Epoch 29/30\n",
            " - 8s - loss: 0.1187 - val_loss: 0.1897\n",
            "Epoch 30/30\n",
            " - 8s - loss: 0.1289 - val_loss: 0.1394\n",
            "0.04540129728337172\n",
            "0.09515633505527776\n",
            "0.23242556973219997\n"
          ],
          "name": "stdout"
        },
        {
          "output_type": "execute_result",
          "data": {
            "text/plain": [
              "0.12432773402361648"
            ]
          },
          "metadata": {
            "tags": []
          },
          "execution_count": 14
        }
      ]
    },
    {
      "cell_type": "code",
      "metadata": {
        "id": "s1IPuh3BMrWP"
      },
      "source": [
        ""
      ],
      "execution_count": null,
      "outputs": []
    },
    {
      "cell_type": "code",
      "metadata": {
        "id": "c69Eu1OpGTsR",
        "colab": {
          "base_uri": "https://localhost:8080/",
          "height": 1088
        },
        "outputId": "7046183a-52b3-426a-a8d8-7eddb1e4c4d7"
      },
      "source": [
        "# Split-out validation dataset (la muestra aleatoria hace que se usan datos del test en el train) NO VALE\n",
        "from sklearn import model_selection\n",
        "array = riesgo_true.values\n",
        "X = array[:,:6*(lag+1)]\n",
        "Y = array[:,6*(lag+1):]\n",
        "validation_size = 0.30\n",
        "seed = 17\n",
        "train_X, test_X, train_y, test_y = model_selection.train_test_split(X, Y, test_size=validation_size, random_state=seed)\n",
        "#reshape input to be 3D [samples, timesteps, features]\n",
        "train_X = train_X.reshape((train_X.shape[0], lag+1,6))\n",
        "test_X = test_X.reshape((test_X.shape[0], lag+1,6))\n",
        "print(train_X.shape, train_y.shape, test_X.shape, test_y.shape)\n",
        "model.fit(train_X, train_y, epochs=30, batch_size=72, validation_data=(test_X, test_y), verbose=2, shuffle=False)\n"
      ],
      "execution_count": null,
      "outputs": [
        {
          "output_type": "stream",
          "text": [
            "(7051, 51, 6) (7051, 3) (3023, 51, 6) (3023, 3)\n",
            "Train on 7051 samples, validate on 3023 samples\n",
            "Epoch 1/30\n",
            " - 10s - loss: 0.1172 - val_loss: 0.0751\n",
            "Epoch 2/30\n",
            " - 10s - loss: 0.1164 - val_loss: 0.0768\n",
            "Epoch 3/30\n",
            " - 10s - loss: 0.1132 - val_loss: 0.0761\n",
            "Epoch 4/30\n",
            " - 10s - loss: 0.1147 - val_loss: 0.0727\n",
            "Epoch 5/30\n",
            " - 10s - loss: 0.1101 - val_loss: 0.0729\n",
            "Epoch 6/30\n",
            " - 10s - loss: 0.1127 - val_loss: 0.0742\n",
            "Epoch 7/30\n",
            " - 10s - loss: 0.1098 - val_loss: 0.0718\n",
            "Epoch 8/30\n",
            " - 10s - loss: 0.1114 - val_loss: 0.0714\n",
            "Epoch 9/30\n",
            " - 10s - loss: 0.1068 - val_loss: 0.0695\n",
            "Epoch 10/30\n",
            " - 10s - loss: 0.1039 - val_loss: 0.0692\n",
            "Epoch 11/30\n",
            " - 10s - loss: 0.1056 - val_loss: 0.0691\n",
            "Epoch 12/30\n",
            " - 10s - loss: 0.1037 - val_loss: 0.0684\n",
            "Epoch 13/30\n",
            " - 10s - loss: 0.1042 - val_loss: 0.0702\n",
            "Epoch 14/30\n",
            " - 10s - loss: 0.1024 - val_loss: 0.0659\n",
            "Epoch 15/30\n",
            " - 10s - loss: 0.0998 - val_loss: 0.0668\n",
            "Epoch 16/30\n",
            " - 10s - loss: 0.0995 - val_loss: 0.0689\n",
            "Epoch 17/30\n",
            " - 10s - loss: 0.0974 - val_loss: 0.0678\n",
            "Epoch 18/30\n",
            " - 10s - loss: 0.1001 - val_loss: 0.0694\n",
            "Epoch 19/30\n",
            " - 10s - loss: 0.0982 - val_loss: 0.0655\n",
            "Epoch 20/30\n",
            " - 10s - loss: 0.0969 - val_loss: 0.0666\n",
            "Epoch 21/30\n",
            " - 10s - loss: 0.0957 - val_loss: 0.0649\n",
            "Epoch 22/30\n",
            " - 10s - loss: 0.0942 - val_loss: 0.0695\n",
            "Epoch 23/30\n",
            " - 10s - loss: 0.0914 - val_loss: 0.0641\n",
            "Epoch 24/30\n",
            " - 10s - loss: 0.0920 - val_loss: 0.0695\n",
            "Epoch 25/30\n",
            " - 10s - loss: 0.0932 - val_loss: 0.0646\n",
            "Epoch 26/30\n",
            " - 11s - loss: 0.0908 - val_loss: 0.0678\n",
            "Epoch 27/30\n",
            " - 10s - loss: 0.0920 - val_loss: 0.0661\n",
            "Epoch 28/30\n",
            " - 10s - loss: 0.0887 - val_loss: 0.0701\n",
            "Epoch 29/30\n",
            " - 10s - loss: 0.0884 - val_loss: 0.0618\n",
            "Epoch 30/30\n",
            " - 10s - loss: 0.0894 - val_loss: 0.0667\n"
          ],
          "name": "stdout"
        },
        {
          "output_type": "execute_result",
          "data": {
            "text/plain": [
              "<keras.callbacks.History at 0x7f0150acca58>"
            ]
          },
          "metadata": {
            "tags": []
          },
          "execution_count": 12
        }
      ]
    },
    {
      "cell_type": "code",
      "metadata": {
        "id": "6JQ6YsVbMsf0",
        "colab": {
          "base_uri": "https://localhost:8080/",
          "height": 68
        },
        "outputId": "4c5b856c-391a-4bdb-b938-086f75d2770b"
      },
      "source": [
        "#predicciones de la muestra aleatoria (NO VALE)\n",
        "y_hat=model.predict(train_X)\n",
        "print(mean_squared_error(train_y[:,0],y_hat[:,0]))\n",
        "print(mean_squared_error(train_y[:,1],y_hat[:,1]))\n",
        "print(mean_squared_error(train_y[:,2],y_hat[:,2]))"
      ],
      "execution_count": null,
      "outputs": [
        {
          "output_type": "stream",
          "text": [
            "0.012787583368814187\n",
            "0.04573435488119634\n",
            "0.14543696142931556\n"
          ],
          "name": "stdout"
        }
      ]
    },
    {
      "cell_type": "code",
      "metadata": {
        "id": "IlMO7GO0tcpO",
        "colab": {
          "base_uri": "https://localhost:8080/",
          "height": 1000
        },
        "outputId": "8f0c2cf2-e1c8-437d-f90c-8c78e4631128"
      },
      "source": [
        "#Validacion manteniendo el orden de la serie (Day Forward-Chaining)\n",
        "n_train_hours= 2000\n",
        "n_test_hours=2000\n",
        "train=riesgo_true[:n_train_hours]\n",
        "test=riesgo_true[n_train_hours+2000:(n_train_hours+n_test_hours+2000)]\n",
        "train=train.values\n",
        "test=test.values\n",
        "# split into input and outputs\n",
        "train_X, train_y = train[:, 0:6*(lag+1)], train[:, 6*(lag+1):]\n",
        "test_X, test_y = test[:, 0:6*(lag+1)], test[:,6*(lag+1):]#de momento solo predecimos a 24h\n",
        "#reshape input to be 3D [samples, timesteps, features]\n",
        "train_X = train_X.reshape((train_X.shape[0], lag+1,6))\n",
        "test_X = test_X.reshape((test_X.shape[0], lag+1,6))\n",
        "print(train_X.shape, train_y.shape, test_X.shape, test_y.shape)\n",
        "from keras.callbacks import EarlyStopping\n",
        "es = EarlyStopping(monitor='val_loss', mode='min', verbose=1, patience=15)\n",
        "history=model.fit(train_X, train_y, epochs=100, batch_size=32, validation_data=(test_X, test_y), verbose=2, shuffle=False)\n",
        "pyplot.plot(history.history['loss'], label='train')\n",
        "pyplot.plot(history.history['val_loss'], label='test')\n",
        "pyplot.legend()\n",
        "pyplot.show()\n",
        "\n"
      ],
      "execution_count": 23,
      "outputs": [
        {
          "output_type": "stream",
          "name": "stdout",
          "text": [
            "(2000, 9, 6) (2000, 3) (2000, 9, 6) (2000, 3)\n",
            "Epoch 1/100\n",
            "63/63 - 1s - loss: 0.0211 - val_loss: 0.0066\n",
            "Epoch 2/100\n",
            "63/63 - 0s - loss: 0.0178 - val_loss: 0.0061\n",
            "Epoch 3/100\n",
            "63/63 - 0s - loss: 0.0162 - val_loss: 0.0061\n",
            "Epoch 4/100\n",
            "63/63 - 0s - loss: 0.0153 - val_loss: 0.0058\n",
            "Epoch 5/100\n",
            "63/63 - 0s - loss: 0.0143 - val_loss: 0.0056\n",
            "Epoch 6/100\n",
            "63/63 - 0s - loss: 0.0135 - val_loss: 0.0055\n",
            "Epoch 7/100\n",
            "63/63 - 0s - loss: 0.0130 - val_loss: 0.0053\n",
            "Epoch 8/100\n",
            "63/63 - 0s - loss: 0.0120 - val_loss: 0.0052\n",
            "Epoch 9/100\n",
            "63/63 - 0s - loss: 0.0112 - val_loss: 0.0051\n",
            "Epoch 10/100\n",
            "63/63 - 0s - loss: 0.0109 - val_loss: 0.0049\n",
            "Epoch 11/100\n",
            "63/63 - 0s - loss: 0.0103 - val_loss: 0.0048\n",
            "Epoch 12/100\n",
            "63/63 - 0s - loss: 0.0099 - val_loss: 0.0047\n",
            "Epoch 13/100\n",
            "63/63 - 0s - loss: 0.0099 - val_loss: 0.0046\n",
            "Epoch 14/100\n",
            "63/63 - 1s - loss: 0.0096 - val_loss: 0.0045\n",
            "Epoch 15/100\n",
            "63/63 - 0s - loss: 0.0091 - val_loss: 0.0045\n",
            "Epoch 16/100\n",
            "63/63 - 0s - loss: 0.0089 - val_loss: 0.0044\n",
            "Epoch 17/100\n",
            "63/63 - 0s - loss: 0.0084 - val_loss: 0.0043\n",
            "Epoch 18/100\n",
            "63/63 - 0s - loss: 0.0082 - val_loss: 0.0043\n",
            "Epoch 19/100\n",
            "63/63 - 0s - loss: 0.0083 - val_loss: 0.0042\n",
            "Epoch 20/100\n",
            "63/63 - 0s - loss: 0.0084 - val_loss: 0.0042\n",
            "Epoch 21/100\n",
            "63/63 - 0s - loss: 0.0082 - val_loss: 0.0042\n",
            "Epoch 22/100\n",
            "63/63 - 0s - loss: 0.0079 - val_loss: 0.0041\n",
            "Epoch 23/100\n",
            "63/63 - 0s - loss: 0.0080 - val_loss: 0.0041\n",
            "Epoch 24/100\n",
            "63/63 - 0s - loss: 0.0078 - val_loss: 0.0041\n",
            "Epoch 25/100\n",
            "63/63 - 0s - loss: 0.0078 - val_loss: 0.0041\n",
            "Epoch 26/100\n",
            "63/63 - 0s - loss: 0.0078 - val_loss: 0.0040\n",
            "Epoch 27/100\n",
            "63/63 - 0s - loss: 0.0075 - val_loss: 0.0040\n",
            "Epoch 28/100\n",
            "63/63 - 0s - loss: 0.0075 - val_loss: 0.0040\n",
            "Epoch 29/100\n",
            "63/63 - 0s - loss: 0.0074 - val_loss: 0.0039\n",
            "Epoch 30/100\n",
            "63/63 - 0s - loss: 0.0073 - val_loss: 0.0039\n",
            "Epoch 31/100\n",
            "63/63 - 0s - loss: 0.0072 - val_loss: 0.0039\n",
            "Epoch 32/100\n",
            "63/63 - 0s - loss: 0.0071 - val_loss: 0.0040\n",
            "Epoch 33/100\n",
            "63/63 - 0s - loss: 0.0073 - val_loss: 0.0039\n",
            "Epoch 34/100\n",
            "63/63 - 0s - loss: 0.0074 - val_loss: 0.0039\n",
            "Epoch 35/100\n",
            "63/63 - 0s - loss: 0.0074 - val_loss: 0.0039\n",
            "Epoch 36/100\n",
            "63/63 - 0s - loss: 0.0071 - val_loss: 0.0039\n",
            "Epoch 37/100\n",
            "63/63 - 0s - loss: 0.0070 - val_loss: 0.0039\n",
            "Epoch 38/100\n",
            "63/63 - 0s - loss: 0.0072 - val_loss: 0.0038\n",
            "Epoch 39/100\n",
            "63/63 - 0s - loss: 0.0071 - val_loss: 0.0038\n",
            "Epoch 40/100\n",
            "63/63 - 0s - loss: 0.0071 - val_loss: 0.0039\n",
            "Epoch 41/100\n",
            "63/63 - 0s - loss: 0.0074 - val_loss: 0.0038\n",
            "Epoch 42/100\n",
            "63/63 - 0s - loss: 0.0071 - val_loss: 0.0038\n",
            "Epoch 43/100\n",
            "63/63 - 0s - loss: 0.0067 - val_loss: 0.0038\n",
            "Epoch 44/100\n",
            "63/63 - 0s - loss: 0.0070 - val_loss: 0.0038\n",
            "Epoch 45/100\n",
            "63/63 - 0s - loss: 0.0070 - val_loss: 0.0038\n",
            "Epoch 46/100\n",
            "63/63 - 0s - loss: 0.0069 - val_loss: 0.0038\n",
            "Epoch 47/100\n",
            "63/63 - 0s - loss: 0.0066 - val_loss: 0.0038\n",
            "Epoch 48/100\n",
            "63/63 - 0s - loss: 0.0067 - val_loss: 0.0037\n",
            "Epoch 49/100\n",
            "63/63 - 0s - loss: 0.0069 - val_loss: 0.0038\n",
            "Epoch 50/100\n",
            "63/63 - 0s - loss: 0.0068 - val_loss: 0.0038\n",
            "Epoch 51/100\n",
            "63/63 - 0s - loss: 0.0069 - val_loss: 0.0037\n",
            "Epoch 52/100\n",
            "63/63 - 0s - loss: 0.0067 - val_loss: 0.0037\n",
            "Epoch 53/100\n",
            "63/63 - 0s - loss: 0.0067 - val_loss: 0.0037\n",
            "Epoch 54/100\n",
            "63/63 - 0s - loss: 0.0066 - val_loss: 0.0037\n",
            "Epoch 55/100\n",
            "63/63 - 0s - loss: 0.0066 - val_loss: 0.0037\n",
            "Epoch 56/100\n",
            "63/63 - 0s - loss: 0.0067 - val_loss: 0.0037\n",
            "Epoch 57/100\n",
            "63/63 - 0s - loss: 0.0066 - val_loss: 0.0037\n",
            "Epoch 58/100\n",
            "63/63 - 0s - loss: 0.0069 - val_loss: 0.0037\n",
            "Epoch 59/100\n",
            "63/63 - 0s - loss: 0.0063 - val_loss: 0.0037\n",
            "Epoch 60/100\n",
            "63/63 - 0s - loss: 0.0067 - val_loss: 0.0037\n",
            "Epoch 61/100\n",
            "63/63 - 0s - loss: 0.0069 - val_loss: 0.0037\n",
            "Epoch 62/100\n",
            "63/63 - 0s - loss: 0.0067 - val_loss: 0.0037\n",
            "Epoch 63/100\n",
            "63/63 - 0s - loss: 0.0066 - val_loss: 0.0037\n",
            "Epoch 64/100\n",
            "63/63 - 0s - loss: 0.0067 - val_loss: 0.0037\n",
            "Epoch 65/100\n",
            "63/63 - 0s - loss: 0.0065 - val_loss: 0.0036\n",
            "Epoch 66/100\n",
            "63/63 - 0s - loss: 0.0066 - val_loss: 0.0036\n",
            "Epoch 67/100\n",
            "63/63 - 0s - loss: 0.0066 - val_loss: 0.0036\n",
            "Epoch 68/100\n",
            "63/63 - 0s - loss: 0.0065 - val_loss: 0.0036\n",
            "Epoch 69/100\n",
            "63/63 - 0s - loss: 0.0064 - val_loss: 0.0036\n",
            "Epoch 70/100\n",
            "63/63 - 0s - loss: 0.0068 - val_loss: 0.0037\n",
            "Epoch 71/100\n",
            "63/63 - 0s - loss: 0.0064 - val_loss: 0.0036\n",
            "Epoch 72/100\n",
            "63/63 - 0s - loss: 0.0065 - val_loss: 0.0036\n",
            "Epoch 73/100\n",
            "63/63 - 0s - loss: 0.0064 - val_loss: 0.0037\n",
            "Epoch 74/100\n",
            "63/63 - 0s - loss: 0.0065 - val_loss: 0.0037\n",
            "Epoch 75/100\n",
            "63/63 - 0s - loss: 0.0064 - val_loss: 0.0037\n",
            "Epoch 76/100\n",
            "63/63 - 0s - loss: 0.0064 - val_loss: 0.0037\n",
            "Epoch 77/100\n",
            "63/63 - 0s - loss: 0.0065 - val_loss: 0.0036\n",
            "Epoch 78/100\n",
            "63/63 - 0s - loss: 0.0065 - val_loss: 0.0036\n",
            "Epoch 79/100\n",
            "63/63 - 0s - loss: 0.0065 - val_loss: 0.0036\n",
            "Epoch 80/100\n",
            "63/63 - 0s - loss: 0.0064 - val_loss: 0.0036\n",
            "Epoch 81/100\n",
            "63/63 - 0s - loss: 0.0063 - val_loss: 0.0036\n",
            "Epoch 82/100\n",
            "63/63 - 0s - loss: 0.0063 - val_loss: 0.0036\n",
            "Epoch 83/100\n",
            "63/63 - 0s - loss: 0.0064 - val_loss: 0.0036\n",
            "Epoch 84/100\n",
            "63/63 - 0s - loss: 0.0064 - val_loss: 0.0036\n",
            "Epoch 85/100\n",
            "63/63 - 0s - loss: 0.0064 - val_loss: 0.0036\n",
            "Epoch 86/100\n",
            "63/63 - 0s - loss: 0.0063 - val_loss: 0.0036\n",
            "Epoch 87/100\n",
            "63/63 - 0s - loss: 0.0064 - val_loss: 0.0036\n",
            "Epoch 88/100\n",
            "63/63 - 0s - loss: 0.0064 - val_loss: 0.0036\n",
            "Epoch 89/100\n",
            "63/63 - 0s - loss: 0.0064 - val_loss: 0.0036\n",
            "Epoch 90/100\n",
            "63/63 - 0s - loss: 0.0064 - val_loss: 0.0036\n",
            "Epoch 91/100\n",
            "63/63 - 0s - loss: 0.0065 - val_loss: 0.0036\n",
            "Epoch 92/100\n",
            "63/63 - 0s - loss: 0.0063 - val_loss: 0.0035\n",
            "Epoch 93/100\n",
            "63/63 - 0s - loss: 0.0062 - val_loss: 0.0036\n",
            "Epoch 94/100\n",
            "63/63 - 0s - loss: 0.0063 - val_loss: 0.0036\n",
            "Epoch 95/100\n",
            "63/63 - 0s - loss: 0.0063 - val_loss: 0.0035\n",
            "Epoch 96/100\n",
            "63/63 - 0s - loss: 0.0062 - val_loss: 0.0035\n",
            "Epoch 97/100\n",
            "63/63 - 0s - loss: 0.0063 - val_loss: 0.0035\n",
            "Epoch 98/100\n",
            "63/63 - 0s - loss: 0.0062 - val_loss: 0.0036\n",
            "Epoch 99/100\n",
            "63/63 - 0s - loss: 0.0065 - val_loss: 0.0035\n",
            "Epoch 100/100\n",
            "63/63 - 0s - loss: 0.0061 - val_loss: 0.0035\n"
          ]
        },
        {
          "output_type": "display_data",
          "data": {
            "image/png": "[encoded data removed]",
            "text/plain": [
              "<Figure size 432x288 with 1 Axes>"
            ]
          },
          "metadata": {
            "needs_background": "light"
          }
        }
      ]
    },
    {
      "cell_type": "code",
      "metadata": {
        "id": "xJY2wEYQcP5_",
        "colab": {
          "base_uri": "https://localhost:8080/"
        },
        "outputId": "8e82f57e-8ce2-47bd-c1ad-7a1074a5a7f6"
      },
      "source": [
        "y_hat=model.predict(test_X)\n",
        "y_hatinv=y_hat*(maxZGZ-minZGZ)+minZGZ\n",
        "test_yinv=test_y*(maxZGZ-minZGZ)+minZGZ\n",
        "EMC24=mean_squared_error(test_yinv[:,0],y_hatinv[:,0])\n",
        "EMC48=mean_squared_error(test_yinv[:,1],y_hatinv[:,1])\n",
        "EMC72=mean_squared_error(test_yinv[:,2],y_hatinv[:,2])\n",
        "print(EMC24)\n",
        "print(EMC48)\n",
        "print(EMC72)\n",
        "print(np.mean([EMC24,EMC48,EMC72]))                         "
      ],
      "execution_count": 24,
      "outputs": [
        {
          "output_type": "stream",
          "name": "stdout",
          "text": [
            "0.02125373413878264\n",
            "0.08259810150606035\n",
            "0.23163104963228134\n",
            "0.1118276284257081\n"
          ]
        }
      ]
    },
    {
      "cell_type": "code",
      "metadata": {
        "id": "pXgNViEU8U2w",
        "colab": {
          "base_uri": "https://localhost:8080/"
        },
        "outputId": "55393f9f-cc65-432c-ce05-44ad4a5a5077"
      },
      "source": [
        "y_hat=model.predict(train_X)\n",
        "y_hatinv=y_hat*(maxZGZ-minZGZ)+minZGZ\n",
        "train_yinv=train_y*(maxZGZ-minZGZ)+minZGZ\n",
        "EMC24=mean_squared_error(train_yinv[:,0],y_hatinv[:,0])\n",
        "EMC48=mean_squared_error(train_yinv[:,1],y_hatinv[:,1])\n",
        "EMC72=mean_squared_error(train_yinv[:,2],y_hatinv[:,2])\n",
        "print(EMC24)\n",
        "print(EMC48)\n",
        "print(EMC72)\n",
        "print(np.mean([EMC24,EMC48,EMC72]))  "
      ],
      "execution_count": 25,
      "outputs": [
        {
          "output_type": "stream",
          "name": "stdout",
          "text": [
            "0.03639943705171727\n",
            "0.12709658200223362\n",
            "0.30079401822000507\n",
            "0.1547633457579853\n"
          ]
        }
      ]
    },
    {
      "cell_type": "code",
      "metadata": {
        "id": "Tx-DRWlgvbik",
        "colab": {
          "base_uri": "https://localhost:8080/",
          "height": 51
        },
        "outputId": "516a9a31-e79d-4e58-8004-168a5e5c7de7"
      },
      "source": [
        "print(model.evaluate(test_X,test_y,  verbose=0))#para comprobar que funciona\n",
        "#guardar modelo en JSON\n",
        "import json\n",
        "import h5py\n",
        "model_json = model.to_json()\n",
        "with open(\"model.json\", \"w\") as json_file:\n",
        "  json_file.write(model_json)\n",
        "#serializan los pesos (weights) para HDF5\n",
        "model.save_weights(\"model.h5\")\n",
        "print(\"Modelo guardado en el PC\")"
      ],
      "execution_count": null,
      "outputs": [
        {
          "output_type": "stream",
          "text": [
            "0.10792649537324905\n",
            "Modelo guardado en el PC\n"
          ],
          "name": "stdout"
        }
      ]
    },
    {
      "cell_type": "code",
      "metadata": {
        "id": "OLTkQ-Dizmur",
        "colab": {
          "base_uri": "https://localhost:8080/",
          "height": 34
        },
        "outputId": "53fb173e-4d74-4f30-d1d9-f6c0b9e5b84e"
      },
      "source": [
        "#cargar el modelo guardado\n",
        "from keras.models import model_from_json\n",
        "# despues...(en el programa principal)\n",
        "# carga el json y crea el modelo\n",
        "json_file = open('model.json', 'r')\n",
        "loaded_model_json = json_file.read()\n",
        "json_file.close()\n",
        "loaded_model = model_from_json(loaded_model_json)\n",
        "# se cargan los pesos (weights) en el nuevo modelo\n",
        "loaded_model.load_weights(\"model.h5\")\n",
        "loaded_model.compile(loss='mean_squared_error', optimizer='adam')\n",
        "print(loaded_model.evaluate(test_X,test_y,  verbose=0))#se ve que funciona adecuadamente\n",
        "\n"
      ],
      "execution_count": null,
      "outputs": [
        {
          "output_type": "stream",
          "text": [
            "0.20497384407371283\n"
          ],
          "name": "stdout"
        }
      ]
    },
    {
      "cell_type": "code",
      "metadata": {
        "id": "2NRh5YaB3R8R",
        "colab": {
          "base_uri": "https://localhost:8080/",
          "height": 34
        },
        "outputId": "c2f74f44-4a43-4b5d-f6e2-06670dc3c77b"
      },
      "source": [
        ""
      ],
      "execution_count": null,
      "outputs": [
        {
          "output_type": "execute_result",
          "data": {
            "text/plain": [
              "'python-V'"
            ]
          },
          "metadata": {
            "tags": []
          },
          "execution_count": 58
        }
      ]
    }
  ]
}